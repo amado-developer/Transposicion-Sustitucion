{
 "cells": [
  {
   "cell_type": "code",
   "execution_count": 1,
   "id": "d4774641",
   "metadata": {},
   "outputs": [],
   "source": [
    "#Universidad del Valle de Guatemala\n",
    "#Amado Garcia \n",
    "#181469"
   ]
  },
  {
   "cell_type": "code",
   "execution_count": 2,
   "id": "90682c06",
   "metadata": {},
   "outputs": [
    {
     "name": "stdout",
     "output_type": "stream",
     "text": [
      "113211143422114213241142344311311543"
     ]
    }
   ],
   "source": [
    "# Python Program to implement polybius cipher\n",
    "#Codigo basado en https://www.geeksforgeeks.org/polybius-square-cipher/\n",
    "# function to display polybius cipher text\n",
    "\n",
    "def polybiusCipher(s):\n",
    "\t\t# convert each character to its encrypted code\n",
    "\t\tfor char in s:\n",
    "\t\t\t\t# finding row of the table\n",
    "\t\t\t\trow = int((ord(char) - ord('a')) / 5) + 1\n",
    "\t\t\t\t# finding column of the table\n",
    "\t\t\t\tcol = ((ord(char) - ord('a')) % 5) + 1\n",
    "\t\t\t\t# if character is 'k'\n",
    "\t\t\t\tif char == 'k':\n",
    "\t\t\t\t\t\trow = row - 1\n",
    "\t\t\t\t\t\tcol = 5 - col + 1\n",
    "\t\t\t\t# if character is greater than 'j'\n",
    "\t\t\t\telif ord(char) >= ord('j'):\n",
    "\t\t\t\t\t\tif col == 1 :\n",
    "\t\t\t\t\t\t\tcol = 6\n",
    "\t\t\t\t\t\t\trow = row - 1\n",
    "\t\t\t\t\t\tcol = col - 1\n",
    "\t\t\t\tprint(row, col, end ='', sep ='')\n",
    "\n",
    "\n",
    "if __name__ == \"__main__\":\n",
    "\t\ts = \"amadogarciarosales\"\n",
    "\t\tpolybiusCipher(s)\n"
   ]
  },
  {
   "cell_type": "code",
   "execution_count": 3,
   "id": "55255ae7",
   "metadata": {},
   "outputs": [
    {
     "name": "stdout",
     "output_type": "stream",
     "text": [
      "Enter a key seguridadsistemas\n",
      "Enter a value amadogarcia\n",
      "xcxaxaxoxxxdx\n"
     ]
    }
   ],
   "source": [
    "#Columnar Transposition Cipher\n",
    "#Codigo basado en https://kaidzohar.blogspot.com/2017/08/columnar-transposition-cipher-code-in.html\n",
    "\n",
    "\n",
    "key=input ('Enter a key ') \n",
    "userval=input ('Enter a value ')\n",
    "col=len(key)\n",
    "if((len(userval)%col)!=0):userval+=\"x\"*(len(userval)%col)\n",
    "userval=userval.replace(' ', '')#remove white spaces from key \n",
    "o=[]\n",
    "for i in key:\n",
    " o.append(i)  #generating list for keys\n",
    "h=[]\n",
    "for i in range(col):\n",
    " h.append(userval[i:len(userval):col])#generating list for plaintext column wise \n",
    "dic=dict(zip(o,h))    #adding both lists\n",
    "so=sorted(dic.keys())    #sorting alphabateically keys of cipher\n",
    "print(''.join(dic[i]for i in so))#join func for displaaying in string format"
   ]
  },
  {
   "cell_type": "code",
   "execution_count": 4,
   "id": "55b89c97",
   "metadata": {},
   "outputs": [
    {
     "name": "stdout",
     "output_type": "stream",
     "text": [
      "AcmriaaadGo\n",
      "delendfthe east wal\n"
     ]
    }
   ],
   "source": [
    "# Python3 program to illustrate\n",
    "# Rail Fence Cipher Encryption and Decryption\n",
    "#Codigo basado en https://www.geeksforgeeks.org/rail-fence-cipher-encryption-decryption/?ref=gcse\n",
    "\n",
    "def encryptRailFence(text, key):\n",
    "\n",
    "\trail = [['\\n' for i in range(len(text))]\n",
    "\t\t\t\tfor j in range(key)]\n",
    "\n",
    "\tdir_down = False\n",
    "\trow, col = 0, 0\n",
    "\t\n",
    "\tfor i in range(len(text)):\n",
    "\t\tif (row == 0) or (row == key - 1):\n",
    "\t\t\tdir_down = not dir_down\n",
    "\t\trail[row][col] = text[i]\n",
    "\t\tcol += 1\n",
    "\n",
    "\t\tif dir_down:\n",
    "\t\t\trow += 1\n",
    "\t\telse:\n",
    "\t\t\trow -= 1\n",
    "\n",
    "\tresult = []\n",
    "\tfor i in range(key):\n",
    "\t\tfor j in range(len(text)):\n",
    "\t\t\tif rail[i][j] != '\\n':\n",
    "\t\t\t\tresult.append(rail[i][j])\n",
    "\treturn(\"\" . join(result))\n",
    "\t\n",
    "def decryptRailFence(cipher, key):\n",
    "\trail = [['\\n' for i in range(len(cipher))]\n",
    "\t\t\t\tfor j in range(key)]\n",
    "\t\n",
    "\tdir_down = None\n",
    "\trow, col = 0, 0\n",
    "\t\n",
    "\tfor i in range(len(cipher)):\n",
    "\t\tif row == 0:\n",
    "\t\t\tdir_down = True\n",
    "\t\tif row == key - 1:\n",
    "\t\t\tdir_down = False\n",
    "\t\trail[row][col] = '*'\n",
    "\t\tcol += 1\n",
    "\n",
    "\t\tif dir_down:\n",
    "\t\t\trow += 1\n",
    "\t\telse:\n",
    "\t\t\trow -= 1\n",
    "\t\t\t\n",
    "\n",
    "\tindex = 0\n",
    "\tfor i in range(key):\n",
    "\t\tfor j in range(len(cipher)):\n",
    "\t\t\tif ((rail[i][j] == '*') and\n",
    "\t\t\t(index < len(cipher))):\n",
    "\t\t\t\trail[i][j] = cipher[index]\n",
    "\t\t\t\tindex += 1\n",
    "\t\t\n",
    "\t#Matrix in zig-zag \n",
    "\tresult = []\n",
    "\trow, col = 0, 0\n",
    "\tfor i in range(len(cipher)):\n",
    "\n",
    "\t\tif row == 0:\n",
    "\t\t\tdir_down = True\n",
    "\t\tif row == key-1:\n",
    "\t\t\tdir_down = False\n",
    "\t\t\t\n",
    "\t\tif (rail[row][col] != '*'):\n",
    "\t\t\tresult.append(rail[row][col])\n",
    "\t\t\tcol += 1\n",
    "\n",
    "\t\tif dir_down:\n",
    "\t\t\trow += 1\n",
    "\t\telse:\n",
    "\t\t\trow -= 1\n",
    "\treturn(\"\".join(result))\n",
    "\n",
    "\n",
    "if __name__ == \"__main__\":\n",
    "\tprint(encryptRailFence(\"AmadoGarcia\", 5))\n",
    "\tprint(decryptRailFence(\"dnhaweedtees alf tl\", 3))\n",
    "\n",
    "\n"
   ]
  },
  {
   "cell_type": "code",
   "execution_count": null,
   "id": "4615b334",
   "metadata": {},
   "outputs": [],
   "source": []
  }
 ],
 "metadata": {
  "kernelspec": {
   "display_name": "Python 3",
   "language": "python",
   "name": "python3"
  },
  "language_info": {
   "codemirror_mode": {
    "name": "ipython",
    "version": 3
   },
   "file_extension": ".py",
   "mimetype": "text/x-python",
   "name": "python",
   "nbconvert_exporter": "python",
   "pygments_lexer": "ipython3",
   "version": "3.8.8"
  }
 },
 "nbformat": 4,
 "nbformat_minor": 5
}
